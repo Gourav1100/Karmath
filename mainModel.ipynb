{
 "cells": [
  {
   "cell_type": "code",
   "execution_count": 7,
   "id": "3c2698c9",
   "metadata": {},
   "outputs": [],
   "source": [
    "import numpy as np\n",
    "import matplotlib.pyplot as plt\n",
    "import pandas as pd\n",
    "import os"
   ]
  },
  {
   "cell_type": "code",
   "execution_count": 10,
   "id": "2900869f",
   "metadata": {
    "scrolled": false
   },
   "outputs": [
    {
     "name": "stderr",
     "output_type": "stream",
     "text": [
      "Traceback (most recent call last):\n",
      "  File \"/usr/lib/python3.8/runpy.py\", line 194, in _run_module_as_main\n",
      "    return _run_code(code, main_globals, None,\n",
      "  File \"/usr/lib/python3.8/runpy.py\", line 87, in _run_code\n",
      "    exec(code, run_globals)\n",
      "  File \"/home/shisuimadara/HackIISC/environment/lib/python3.8/site-packages/pyDEA/main.py\", line 6, in <module>\n",
      "    from pyDEA.core.utils.run_routine import RunMethodTerminal\n",
      "  File \"/home/shisuimadara/HackIISC/environment/lib/python3.8/site-packages/pyDEA/core/utils/run_routine.py\", line 4, in <module>\n",
      "    import xlwt\n",
      "  File \"/home/shisuimadara/HackIISC/environment/lib/python3.8/site-packages/xlwt/__init__.py\", line 5, in <module>\n",
      "    from .Row import Row\n",
      "  File \"/home/shisuimadara/HackIISC/environment/lib/python3.8/site-packages/xlwt/Row.py\", line 9, in <module>\n",
      "    from . import ExcelFormula\n",
      "  File \"/home/shisuimadara/HackIISC/environment/lib/python3.8/site-packages/xlwt/ExcelFormula.py\", line 8, in <module>\n",
      "    from . import ExcelFormulaParser, ExcelFormulaLexer\n",
      "  File \"/home/shisuimadara/HackIISC/environment/lib/python3.8/site-packages/xlwt/ExcelFormulaLexer.py\", line 53, in <module>\n",
      "    _re = recompile(\n",
      "  File \"/usr/lib/python3.8/re.py\", line 252, in compile\n",
      "    return _compile(pattern, flags)\n",
      "  File \"/usr/lib/python3.8/re.py\", line 304, in _compile\n",
      "    p = sre_compile.compile(pattern, flags)\n",
      "  File \"/usr/lib/python3.8/sre_compile.py\", line 764, in compile\n",
      "    p = sre_parse.parse(p, flags)\n",
      "  File \"/usr/lib/python3.8/sre_parse.py\", line 958, in parse\n",
      "    p.state.flags = fix_flags(str, p.state.flags)\n",
      "  File \"/usr/lib/python3.8/sre_parse.py\", line 925, in fix_flags\n",
      "    raise ValueError(\"cannot use LOCALE flag with a str pattern\")\n",
      "ValueError: cannot use LOCALE flag with a str pattern\n"
     ]
    },
    {
     "data": {
      "text/plain": [
       "256"
      ]
     },
     "execution_count": 10,
     "metadata": {},
     "output_type": "execute_result"
    }
   ],
   "source": [
    "os.system(\" python -m pyDEA.main sample.csv csv Sample.csv\")"
   ]
  },
  {
   "cell_type": "code",
   "execution_count": 9,
   "id": "31736459",
   "metadata": {},
   "outputs": [
    {
     "name": "stdout",
     "output_type": "stream",
     "text": [
      "total 28\n",
      "drwxrwxr-x 6 shisuimadara shisuimadara 4096 Jul  6 10:27 environment\n",
      "drwxrwxr-x 3 shisuimadara shisuimadara 4096 Jul  6 11:57 HackIISC\n",
      "-rw-rw-r-- 1 shisuimadara shisuimadara 9884 Jul  6 23:10 mainModel.ipynb\n",
      "-rw-rw-r-- 1 shisuimadara shisuimadara 6884 Jul  6 11:39 sample.csv\n"
     ]
    },
    {
     "data": {
      "text/plain": [
       "0"
      ]
     },
     "execution_count": 9,
     "metadata": {},
     "output_type": "execute_result"
    }
   ],
   "source": [
    "dataset = pd.read_csv(Sample.csv) #new file after running DEA\n",
    "x = dataset.iloc[:,2,10].values\n",
    "y = dataset.iloc[:,10].values #efficiency in the last\n"
   ]
  },
  {
   "cell_type": "code",
   "execution_count": 1,
   "id": "4b10731e",
   "metadata": {},
   "outputs": [
    {
     "ename": "NameError",
     "evalue": "name 'x' is not defined",
     "output_type": "error",
     "traceback": [
      "\u001b[0;31m---------------------------------------------------------------------------\u001b[0m",
      "\u001b[0;31mNameError\u001b[0m                                 Traceback (most recent call last)",
      "Input \u001b[0;32mIn [1]\u001b[0m, in \u001b[0;36m<cell line: 2>\u001b[0;34m()\u001b[0m\n\u001b[1;32m      1\u001b[0m \u001b[38;5;28;01mfrom\u001b[39;00m \u001b[38;5;21;01msklearn\u001b[39;00m\u001b[38;5;21;01m.\u001b[39;00m\u001b[38;5;21;01mmodel_selection\u001b[39;00m \u001b[38;5;28;01mimport\u001b[39;00m train_test_split\n\u001b[0;32m----> 2\u001b[0m xTrain,xTest,yTrain,yTest \u001b[38;5;241m=\u001b[39m train_test_split(\u001b[43mx\u001b[49m,y,test_size \u001b[38;5;241m=\u001b[39m \u001b[38;5;241m0.2\u001b[39m, random_state\u001b[38;5;241m=\u001b[39m\u001b[38;5;241m0\u001b[39m)\n",
      "\u001b[0;31mNameError\u001b[0m: name 'x' is not defined"
     ]
    }
   ],
   "source": [
    "from sklearn.model_selection import train_test_split\n",
    "xTrain,xTest,yTrain,yTest = train_test_split(x,y,test_size = 0.2, random_state=0)\n"
   ]
  },
  {
   "cell_type": "code",
   "execution_count": 2,
   "id": "c57939ef",
   "metadata": {},
   "outputs": [],
   "source": [
    "from sklearn.preprocessing import StandardScaler\n",
    "sc = StandardScaler()"
   ]
  },
  {
   "cell_type": "code",
   "execution_count": null,
   "id": "91747e4f",
   "metadata": {},
   "outputs": [],
   "source": [
    "xTrain = sc.fit_transform(xTrain)\n",
    "xTest = sc.transform(xTest)"
   ]
  },
  {
   "cell_type": "code",
   "execution_count": 2,
   "id": "74eb876f",
   "metadata": {},
   "outputs": [],
   "source": [
    "from tensorflow.keras.models import Sequential\n",
    "from tensorflow.keras.layers import Dense"
   ]
  },
  {
   "cell_type": "code",
   "execution_count": 7,
   "id": "fc562a5f",
   "metadata": {},
   "outputs": [],
   "source": [
    "classifier = Sequential()\n",
    "classifier.add(Dense(units = 5, kernel_initializer = \"uniform\", activation=\"relu\", input_dim=8)) #2including to 10 excluding\n",
    "classifier.add(Dense(units = 5, kernel_initializer = \"uniform\", activation=\"relu\"))\n",
    "classifier.add(Dense(units = 1, kernel_initializer = \"uniform\", activation = \"relu\")) #relu or elu test"
   ]
  },
  {
   "cell_type": "code",
   "execution_count": 9,
   "id": "e2617160",
   "metadata": {},
   "outputs": [],
   "source": [
    "classifier.compile(optimizer=\"adam\",loss=\"crossentropy\",metrics=[\"accuracy\"])"
   ]
  },
  {
   "cell_type": "code",
   "execution_count": null,
   "id": "cf97f2a2",
   "metadata": {},
   "outputs": [],
   "source": [
    "classifier.fit(xTrain,yTrain,batch_size=10,epochs = 100)"
   ]
  },
  {
   "cell_type": "code",
   "execution_count": null,
   "id": "d1ee1011",
   "metadata": {},
   "outputs": [],
   "source": [
    "y_pred=classifier.predict(xTest)\n",
    "\n",
    "from sklearn.metrics import confusion_matrix, accuracy_score\n",
    "cm = confusio_matrix(yTest, y_pred)\n",
    "\n",
    "accuracy_score(yTest, y_pred)"
   ]
  }
 ],
 "metadata": {
  "kernelspec": {
   "display_name": "Python 3 (ipykernel)",
   "language": "python",
   "name": "python3"
  },
  "language_info": {
   "codemirror_mode": {
    "name": "ipython",
    "version": 3
   },
   "file_extension": ".py",
   "mimetype": "text/x-python",
   "name": "python",
   "nbconvert_exporter": "python",
   "pygments_lexer": "ipython3",
   "version": "3.8.10"
  }
 },
 "nbformat": 4,
 "nbformat_minor": 5
}
